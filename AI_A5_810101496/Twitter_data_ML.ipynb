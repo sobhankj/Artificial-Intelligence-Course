{
  "cells": [
    {
      "cell_type": "markdown",
      "source": [
        "# Setup environment"
      ],
      "metadata": {
        "id": "eY99YE-VG1C9"
      },
      "id": "eY99YE-VG1C9"
    },
    {
      "cell_type": "code",
      "execution_count": null,
      "id": "fec65989e04597f0",
      "metadata": {
        "id": "fec65989e04597f0",
        "colab": {
          "base_uri": "https://localhost:8080/"
        },
        "outputId": "e268d6b7-1c94-4591-98f9-815bd9dfb2b4"
      },
      "outputs": [
        {
          "output_type": "stream",
          "name": "stdout",
          "text": [
            "\u001b[2K     \u001b[90m━━━━━━━━━━━━━━━━━━━━━━━━━━━━━━━━━━━━━━━━\u001b[0m \u001b[32m431.4/431.4 kB\u001b[0m \u001b[31m4.9 MB/s\u001b[0m eta \u001b[36m0:00:00\u001b[0m\n",
            "\u001b[2K     \u001b[90m━━━━━━━━━━━━━━━━━━━━━━━━━━━━━━━━━━━━━━━━\u001b[0m \u001b[32m21.3/21.3 MB\u001b[0m \u001b[31m64.6 MB/s\u001b[0m eta \u001b[36m0:00:00\u001b[0m\n",
            "\u001b[?25h"
          ]
        }
      ],
      "source": [
        "!pip install gensim emoji nltk tqdm seaborn torch torchsummary -q"
      ]
    },
    {
      "cell_type": "code",
      "execution_count": null,
      "id": "initial_id",
      "metadata": {
        "collapsed": true,
        "id": "initial_id"
      },
      "outputs": [],
      "source": [
        "import pandas as pd\n",
        "import torch\n",
        "from torch import nn\n",
        "from torch.utils.data import DataLoader, Dataset\n",
        "\n",
        "import gensim\n",
        "\n",
        "from sklearn.model_selection import train_test_split\n",
        "import sklearn.metrics as metrics\n",
        "\n",
        "import matplotlib.pyplot as plt\n",
        "import seaborn as sns\n",
        "import numpy as np\n",
        "from tqdm import tqdm\n",
        "import gc\n",
        "import os\n",
        "import string\n",
        "import ssl\n",
        "ssl._create_default_https_context = ssl._create_unverified_context\n",
        "import pandas as pd\n",
        "import string\n",
        "import re\n",
        "import emoji\n",
        "import nltk\n",
        "import matplotlib.pyplot as plt\n",
        "from nltk.tokenize import word_tokenize\n",
        "from nltk.corpus import stopwords\n",
        "from nltk.stem import PorterStemmer"
      ]
    },
    {
      "cell_type": "markdown",
      "id": "cf946d026ed2d98e",
      "metadata": {
        "collapsed": false,
        "id": "cf946d026ed2d98e"
      },
      "source": [
        "# Config"
      ]
    },
    {
      "cell_type": "markdown",
      "id": "3e83a8b72b644c2",
      "metadata": {
        "collapsed": false,
        "id": "3e83a8b72b644c2"
      },
      "source": [
        "## Model training config"
      ]
    },
    {
      "cell_type": "markdown",
      "source": [
        "Increasing the size of the text window, such that it encompasses more than all the sentences of the dataset, can have both advantages and disadvantages in a convolutional neural network (CNN):\n",
        "\n",
        "Advantages:\n",
        "\n",
        "1. **Global Context**: A larger text window allows the model to capture a broader context of the input text, including long-range dependencies and relationships between distant words or phrases. This can be beneficial for tasks that require understanding of the overall context, such as document classification or sentiment analysis.\n",
        "\n",
        "2. **Feature Abstraction**: With a larger text window, the CNN can learn more abstract features that span multiple sentences or paragraphs. This can lead to the extraction of higher-level semantic information from the text, enabling the model to make more informed predictions.\n",
        "\n",
        "3. **Robustness to Noise**: A larger receptive field can help the model to better handle noisy or ambiguous input, as it has access to more contextual information to disambiguate the meaning of words or phrases.\n",
        "\n",
        "Disadvantages:\n",
        "\n",
        "1. **Increased Computational Complexity**: Using a larger text window requires processing a greater amount of input data, which can significantly increase the computational complexity and memory requirements of the model. This can lead to longer training times and may make the model less suitable for deployment on resource-constrained devices.\n",
        "\n",
        "2. **Loss of Local Detail**: A larger text window may result in the loss of fine-grained local information, as the model focuses more on capturing global context. This could potentially degrade performance on tasks that rely heavily on local features or word-level semantics, such as named entity recognition or part-of-speech tagging.\n",
        "\n",
        "3. **Overfitting**: With a larger receptive field, the model may have a higher risk of overfitting, especially if the dataset is relatively small or if there is insufficient regularization. The model may memorize irrelevant patterns or noise in the input text, leading to poorer generalization performance on unseen data.\n",
        "\n",
        "Overall, the decision to increase the size of the text window in a CNN should be based on the specific requirements of the task and the characteristics of the dataset. While a larger text window can provide access to richer contextual information, it also comes with trade-offs in terms of computational complexity and potential loss of local detail. Therefore, it's essential to carefully balance these factors to achieve the best performance for the given task."
      ],
      "metadata": {
        "id": "eytX8xiRZPts"
      },
      "id": "eytX8xiRZPts"
    },
    {
      "cell_type": "code",
      "execution_count": null,
      "id": "2d0826c5b8eb52c9",
      "metadata": {
        "id": "2d0826c5b8eb52c9"
      },
      "outputs": [],
      "source": [
        "LEARNING_RATE = 0.001\n",
        "WEIGHT_DECAY = 0.001\n",
        "BATCH_SIZE = 128\n",
        "EPOCHS = 15\n",
        "\n",
        "SEQUENCE_LEN = 64\n",
        "CNN_FILTERS = 64"
      ]
    },
    {
      "cell_type": "code",
      "execution_count": null,
      "id": "b1f939dd5898a0b6",
      "metadata": {
        "id": "b1f939dd5898a0b6"
      },
      "outputs": [],
      "source": [
        "DEVICE = torch.device(\"cuda\" if torch.cuda.is_available() else \"cpu\")"
      ]
    },
    {
      "cell_type": "markdown",
      "id": "27110752c038c1d0",
      "metadata": {
        "collapsed": false,
        "id": "27110752c038c1d0"
      },
      "source": [
        "# Data Preparation"
      ]
    },
    {
      "cell_type": "markdown",
      "id": "32b050729991fec9",
      "metadata": {
        "collapsed": false,
        "id": "32b050729991fec9"
      },
      "source": [
        "## Load Data"
      ]
    },
    {
      "cell_type": "code",
      "execution_count": null,
      "id": "88e92f34d72c6f62",
      "metadata": {
        "id": "88e92f34d72c6f62",
        "colab": {
          "base_uri": "https://localhost:8080/"
        },
        "outputId": "78dda8c7-387b-4602-ebe7-a359c0aa4042"
      },
      "outputs": [
        {
          "output_type": "stream",
          "name": "stdout",
          "text": [
            "                                             latweet  intention\n",
            "0  my life is meaningless i just want to end my l...          1\n",
            "1  muttering i wanna die to myself daily for a fe...          1\n",
            "2  work slave i really feel like my only purpose ...          1\n",
            "3  i did something on the 2 of october i overdose...          1\n",
            "4  i feel like no one cares i just want to die ma...          1\n"
          ]
        }
      ],
      "source": [
        "import pandas as pd\n",
        "twitter_data = pd.read_csv('twitter-suicidal-data.csv')\n",
        "print(twitter_data.head())"
      ]
    },
    {
      "cell_type": "markdown",
      "id": "57f7552c58ea498e",
      "metadata": {
        "collapsed": false,
        "id": "57f7552c58ea498e"
      },
      "source": [
        "## Data Preprocessing"
      ]
    },
    {
      "cell_type": "code",
      "execution_count": null,
      "id": "f16efd0184e90f40",
      "metadata": {
        "colab": {
          "base_uri": "https://localhost:8080/"
        },
        "id": "f16efd0184e90f40",
        "outputId": "21b8b185-9fe3-4670-b306-947ab99d487b"
      },
      "outputs": [
        {
          "output_type": "stream",
          "name": "stderr",
          "text": [
            "[nltk_data] Downloading package stopwords to /root/nltk_data...\n",
            "[nltk_data]   Unzipping corpora/stopwords.zip.\n",
            "[nltk_data] Downloading package punkt to /root/nltk_data...\n",
            "[nltk_data]   Unzipping tokenizers/punkt.zip.\n",
            "[nltk_data] Downloading package wordnet to /root/nltk_data...\n",
            "[nltk_data] Downloading package averaged_perceptron_tagger to\n",
            "[nltk_data]     /root/nltk_data...\n",
            "[nltk_data]   Unzipping taggers/averaged_perceptron_tagger.zip.\n"
          ]
        },
        {
          "output_type": "execute_result",
          "data": {
            "text/plain": [
              "True"
            ]
          },
          "metadata": {},
          "execution_count": 6
        }
      ],
      "source": [
        "import nltk\n",
        "import emoji\n",
        "import re\n",
        "\n",
        "nltk.download([\"stopwords\", \"punkt\", \"wordnet\", \"averaged_perceptron_tagger\"])"
      ]
    },
    {
      "cell_type": "markdown",
      "source": [
        "Converting text to lowercase format is a common preprocessing step in natural language processing (NLP) tasks. Here are the advantages and disadvantages of this process:\n",
        "\n",
        "Advantages:\n",
        "1. **Normalization**: Lowercasing helps in normalizing the text by reducing the number of unique tokens. For example, \"Hello\" and \"hello\" would be treated as the same word after lowercasing.\n",
        "2. **Consistency**: Lowercasing ensures that the same word written in different cases is treated as identical, leading to more consistent processing and analysis.\n",
        "3. **Efficiency**: Lowercasing reduces the complexity of text processing tasks by simplifying the vocabulary. It can speed up processing, especially in tasks like tokenization and feature extraction.\n",
        "\n",
        "Disadvantages:\n",
        "1. **Loss of Information**: Lowercasing can lead to the loss of information, especially in cases where the distinction between uppercase and lowercase letters is meaningful. For example, proper nouns or acronyms may lose their distinction.\n",
        "2. **Contextual Ambiguity**: In some cases, lowercasing can introduce ambiguity or alter the meaning of text. For instance, \"US\" (United States) and \"us\" (pronoun) would be treated as the same word after lowercasing.\n",
        "\n",
        "We typically perform lowercasing towards the end of the preprocessing pipeline to ensure that other text processing steps (such as tokenization, stemming, and stop words removal) are applied consistently to the text. Lowercasing helps in standardizing the text representation before further analysis, making it easier to compare and process."
      ],
      "metadata": {
        "id": "2KKRyRayHtHX"
      },
      "id": "2KKRyRayHtHX"
    },
    {
      "cell_type": "markdown",
      "source": [
        "Removing numbers from text data during preprocessing is a common practice in natural language processing tasks. Here are the advantages and disadvantages of this process:\n",
        "\n",
        "Advantages:\n",
        "\n",
        "1. **Improved Text Clarity**: Removing numbers can improve the readability and clarity of text data, especially in tasks like sentiment analysis or topic modeling, where numbers may not contribute to the semantic meaning of the text.\n",
        "2. **Reduced Vocabulary Size**: Eliminating numbers reduces the size of the vocabulary, which can lead to more efficient processing and better model performance, especially in tasks where numerical values are not relevant.\n",
        "3. **Focus on Textual Patterns**: By removing numerical values, the focus of analysis shifts towards textual patterns and linguistic features, which may be more relevant for certain NLP tasks such as text classification or information retrieval.\n",
        "\n",
        "Disadvantages:\n",
        "\n",
        "1. **Loss of Information**: Removing numbers may lead to the loss of valuable information, especially in domains where numerical data is important for understanding the context. For example, in fields like finance, healthcare, or scientific research, numbers often convey crucial information.\n",
        "2. **Altered Meaning**: In some cases, numbers may be integral to the meaning of the text. Removing numbers indiscriminately can alter the semantics of the text and potentially lead to misinterpretation or loss of context.\n",
        "3. **Contextual Importance**: Numbers may carry contextual significance in certain contexts. For instance, dates, times, measurements, or product identifiers are examples where numerical values convey specific meaning. Removing them can degrade the richness of the text representation.\n",
        "\n",
        "In summary, while removing numbers from text data can enhance text processing and analysis in certain contexts, it's essential to carefully consider the nature of the data and the requirements of the NLP task to determine whether this preprocessing step is beneficial or not."
      ],
      "metadata": {
        "id": "3MfuFnSJHuUa"
      },
      "id": "3MfuFnSJHuUa"
    },
    {
      "cell_type": "markdown",
      "source": [
        "In natural language processing tasks involving text data from social media platforms like Twitter, hashtags play a significant role in conveying context, topics, trends, and sentiments. Here's why we typically do not remove hashtags during preprocessing and how keeping them can affect the performance of the model:\n",
        "\n",
        "1. **Contextual Information**: Hashtags provide valuable contextual information about the content of a tweet. They indicate the main topic or theme being discussed, and removing them would result in the loss of this crucial information. By keeping hashtags, the model can better understand the context and make more informed predictions or analyses.\n",
        "\n",
        "2. **Topic Identification**: Hashtags are commonly used to categorize tweets and group them based on common topics or themes. By preserving hashtags, the model can leverage this information to better identify and categorize tweets, leading to more accurate classification or clustering results.\n",
        "\n",
        "3. **Sentiment Analysis**: Hashtags often reflect the sentiment or mood associated with a tweet. For example, hashtags like #happy, #excited, or #angry provide insights into the emotional tone of the text. By retaining hashtags, sentiment analysis models can incorporate this information to improve their predictions of sentiment polarity.\n",
        "\n",
        "4. **Trend Detection**: Hashtags are instrumental in identifying trending topics or events on social media platforms. They help in monitoring real-time discussions and identifying emerging trends. Keeping hashtags allows the model to detect and analyze trending topics, which is valuable for tasks like trend prediction or event detection.\n",
        "\n",
        "5. **Model Generalization**: Removing hashtags may result in a loss of generalization ability, especially if the model is trained on a diverse range of topics and domains. By retaining hashtags, the model can learn to recognize and adapt to different contexts, leading to better generalization performance across various datasets.\n",
        "\n",
        "Overall, keeping hashtags in the text data allows NLP models to leverage valuable contextual information, improve topic identification, enhance sentiment analysis, detect trends, and achieve better generalization performance. Removing hashtags would deprive the model of these benefits and could potentially hinder its performance on tasks involving social media text data."
      ],
      "metadata": {
        "id": "yLorKodxIC5W"
      },
      "id": "yLorKodxIC5W"
    },
    {
      "cell_type": "code",
      "execution_count": null,
      "id": "dbe50f445aa09ecc",
      "metadata": {
        "id": "dbe50f445aa09ecc"
      },
      "outputs": [],
      "source": [
        "def convert_emoji_to_text(text):\n",
        "    \"\"\"This function would replace emojies with a space\"\"\"\n",
        "\n",
        "stopwords = nltk.corpus.stopwords.words(\"english\")\n",
        "lemmatizer = nltk.stem.WordNetLemmatizer()\n",
        "\n",
        "def nltk_pos_tagger(nltk_tag):\n",
        "    if nltk_tag.startswith('J'):\n",
        "        return 'a'\n",
        "    elif nltk_tag.startswith('V'):\n",
        "        return 'v'\n",
        "    elif nltk_tag.startswith('N'):\n",
        "        return 'n'\n",
        "    elif nltk_tag.startswith('R'):\n",
        "        return 'r'\n",
        "    else:\n",
        "        return 'n'\n",
        "\n",
        "def preprocess_data(text: str):\n",
        "    \"\"\"\n",
        "    Preprocessing steps are as follows:\n",
        "    1. lowercase the text\n",
        "    2. remove punctuation\n",
        "    3. remove numbers\n",
        "    4. remove urls\n",
        "    5. remove usernames\n",
        "    6. remove extra spaces\n",
        "    7. convert emojis to text\n",
        "    8. remove non-word characters\n",
        "    9. lemmatization and tokenization of the text\n",
        "    10. remove stopwords\n",
        "    :param text: str\n",
        "    :return: tokens: list[str]\n",
        "    \"\"\"\n",
        "    # Convert text to lowercase\n",
        "    text = text.lower()\n",
        "\n",
        "    # Remove punctuation\n",
        "    text = text.translate(str.maketrans('', '', string.punctuation))\n",
        "\n",
        "    # Remove numbers\n",
        "    text = re.sub(r'\\d+', '', text)\n",
        "\n",
        "    # Remove URLs\n",
        "    text = re.sub(r'http\\S+|www\\S+', '', text)\n",
        "\n",
        "    # Remove user mentions\n",
        "    text = re.sub(r'@\\w+', '', text)\n",
        "\n",
        "    # Remove emojis\n",
        "    text = emoji.demojize(text, delimiters=(' ', ' '))\n",
        "\n",
        "    # Remove non-word characters and keep only words\n",
        "    text = re.sub(r'\\W+', ' ', text)\n",
        "\n",
        "    # Tokenize the text\n",
        "    tokens = word_tokenize(text)\n",
        "\n",
        "    # Remove stop words\n",
        "    # stop_words = set(stopwords.words('english'))\n",
        "    # tokens = [token for token in tokens if token not in stop_words]\n",
        "    tokens = [token for token in tokens if token not in stopwords]\n",
        "\n",
        "    # Stemming\n",
        "    porter_stemmer = PorterStemmer()\n",
        "    tokens = [porter_stemmer.stem(token) for token in tokens]\n",
        "\n",
        "    return tokens\n",
        "\n"
      ]
    },
    {
      "cell_type": "code",
      "source": [
        "import pandas as pd\n",
        "import string\n",
        "import re\n",
        "import emoji\n",
        "import nltk\n",
        "import matplotlib.pyplot as plt\n",
        "from nltk.tokenize import word_tokenize\n",
        "from nltk.corpus import stopwords\n",
        "from nltk.stem import PorterStemmer\n",
        "twitter_data = pd.read_csv('twitter-suicidal-data.csv')\n",
        "\n",
        "# Download NLTK resources\n",
        "nltk.download('punkt')\n",
        "nltk.download('stopwords')\n",
        "\n",
        "# Function to preprocess text\n",
        "def preprocess_text(text):\n",
        "    # Convert text to lowercase\n",
        "    text = text.lower()\n",
        "\n",
        "    # Remove punctuation\n",
        "    text = text.translate(str.maketrans('', '', string.punctuation))\n",
        "\n",
        "    # Remove numbers\n",
        "    text = re.sub(r'\\d+', '', text)\n",
        "\n",
        "    # Remove URLs\n",
        "    text = re.sub(r'http\\S+|www\\S+', '', text)\n",
        "\n",
        "    # Remove user mentions\n",
        "    text = re.sub(r'@\\w+', '', text)\n",
        "\n",
        "    # Remove emojis\n",
        "    text = emoji.demojize(text, delimiters=(' ', ' '))\n",
        "\n",
        "    # Remove non-word characters and keep only words\n",
        "    text = re.sub(r'\\W+', ' ', text)\n",
        "\n",
        "    # Tokenize the text\n",
        "    tokens = word_tokenize(text)\n",
        "\n",
        "    # Remove stop words\n",
        "    stop_words = set(stopwords.words('english'))\n",
        "    tokens = [token for token in tokens if token not in stop_words]\n",
        "\n",
        "    # Stemming\n",
        "    porter_stemmer = PorterStemmer()\n",
        "    tokens = [porter_stemmer.stem(token) for token in tokens]\n",
        "\n",
        "    return tokens\n",
        "\n",
        "# Preprocess the \"tweet\" column\n",
        "twitter_data['tokens'] = twitter_data['latweet'].apply(preprocess_text)\n",
        "print(twitter_data)"
      ],
      "metadata": {
        "colab": {
          "base_uri": "https://localhost:8080/"
        },
        "id": "h5QhMsUnRcIP",
        "outputId": "f2028e5d-71da-4e51-882c-8987dec0dd07"
      },
      "id": "h5QhMsUnRcIP",
      "execution_count": null,
      "outputs": [
        {
          "output_type": "stream",
          "name": "stderr",
          "text": [
            "[nltk_data] Downloading package punkt to /root/nltk_data...\n",
            "[nltk_data]   Package punkt is already up-to-date!\n",
            "[nltk_data] Downloading package stopwords to /root/nltk_data...\n",
            "[nltk_data]   Package stopwords is already up-to-date!\n"
          ]
        },
        {
          "output_type": "stream",
          "name": "stdout",
          "text": [
            "                                                latweet  intention  \\\n",
            "0     my life is meaningless i just want to end my l...          1   \n",
            "1     muttering i wanna die to myself daily for a fe...          1   \n",
            "2     work slave i really feel like my only purpose ...          1   \n",
            "3     i did something on the 2 of october i overdose...          1   \n",
            "4     i feel like no one cares i just want to die ma...          1   \n",
            "...                                                 ...        ...   \n",
            "9114  have you ever laid on your bed at night and cr...          1   \n",
            "9115  the fault the blame the pain s still there i m...          1   \n",
            "9116  stop asking me to trust you when i m still cou...          1   \n",
            "9117  i never know how to handle sadness crying make...          1   \n",
            "9118  when cancer takes a life we blame cancer depre...          1   \n",
            "\n",
            "                                                 tokens  \n",
            "0     [life, meaningless, want, end, life, badli, li...  \n",
            "1     [mutter, wan, na, die, daili, month, feel, wor...  \n",
            "2     [work, slave, realli, feel, like, purpos, life...  \n",
            "3     [someth, octob, overdos, felt, alon, horribl, ...  \n",
            "4     [feel, like, one, care, want, die, mayb, feel,...  \n",
            "...                                                 ...  \n",
            "9114  [ever, laid, bed, night, cri, good, enough, co...  \n",
            "9115  [fault, blame, pain, still, alon, insid, broke...  \n",
            "9116  [stop, ask, trust, still, cough, water, last, ...  \n",
            "9117  [never, know, handl, sad, cri, make, feel, stu...  \n",
            "9118  [cancer, take, life, blame, cancer, depress, d...  \n",
            "\n",
            "[9119 rows x 3 columns]\n"
          ]
        }
      ]
    },
    {
      "cell_type": "markdown",
      "id": "2e129c7a31663741",
      "metadata": {
        "collapsed": false,
        "id": "2e129c7a31663741"
      },
      "source": [
        "# Word2Vec - Word Embedding"
      ]
    },
    {
      "cell_type": "code",
      "execution_count": null,
      "id": "8d15b31459fd1e5",
      "metadata": {
        "colab": {
          "base_uri": "https://localhost:8080/"
        },
        "id": "8d15b31459fd1e5",
        "outputId": "101a99be-5fb3-45a6-b993-fb53cb0d4c23"
      },
      "outputs": [
        {
          "output_type": "stream",
          "name": "stdout",
          "text": [
            "fasttext-wiki-news-subwords-300\n",
            "conceptnet-numberbatch-17-06-300\n",
            "word2vec-ruscorpora-300\n",
            "word2vec-google-news-300\n",
            "glove-wiki-gigaword-50\n",
            "glove-wiki-gigaword-100\n",
            "glove-wiki-gigaword-200\n",
            "glove-wiki-gigaword-300\n",
            "glove-twitter-25\n",
            "glove-twitter-50\n",
            "glove-twitter-100\n",
            "glove-twitter-200\n",
            "__testing_word2vec-matrix-synopsis\n"
          ]
        }
      ],
      "source": [
        "# print available word2vec models\n",
        "import gensim.downloader as api\n",
        "print(\"\\n\".join(api.info()['models'].keys()))"
      ]
    },
    {
      "cell_type": "code",
      "execution_count": null,
      "id": "55bbe6faa1226b8d",
      "metadata": {
        "id": "55bbe6faa1226b8d",
        "colab": {
          "base_uri": "https://localhost:8080/"
        },
        "outputId": "e4ac126c-c4f8-4e05-b589-5237a6ff22d6"
      },
      "outputs": [
        {
          "output_type": "stream",
          "name": "stdout",
          "text": [
            "Downloading Word2Vec model...\n",
            "[==================================================] 100.0% 1662.8/1662.8MB downloaded\n",
            "Word2vec model is downloaded.\n"
          ]
        }
      ],
      "source": [
        "W2V_PATH = None # Path to W2V if downloaded\n",
        "if W2V_PATH is not None and os.path.exists(W2V_PATH):\n",
        "    print(\"Loading Word2Vec model...\")\n",
        "    w2v_model = gensim.models.KeyedVectors.load(W2V_PATH, mmap='r')\n",
        "    print(\"Word2Vec model is loaded.\")\n",
        "else:\n",
        "    print(\"Downloading Word2Vec model...\")\n",
        "    w2v_model = api.load(\"word2vec-google-news-300\")\n",
        "    print(\"Word2vec model is downloaded.\")\n",
        "    if W2V_PATH is not None:\n",
        "      print(\"\\nSaving Word2Vec model...\")\n",
        "      w2v_model.save(W2V_PATH)\n",
        "      print(\"Word2Vec model is saved.\")"
      ]
    },
    {
      "cell_type": "code",
      "source": [
        "from google.colab import drive\n",
        "drive.mount('/content/drive')\n",
        "w2v_model.save('/content/drive/My Drive/word2vec-google-news-300.model')"
      ],
      "metadata": {
        "colab": {
          "base_uri": "https://localhost:8080/"
        },
        "id": "A65KaPfXglmr",
        "outputId": "7835407d-6e0b-4866-815c-4de244306794"
      },
      "id": "A65KaPfXglmr",
      "execution_count": null,
      "outputs": [
        {
          "output_type": "stream",
          "name": "stdout",
          "text": [
            "Drive already mounted at /content/drive; to attempt to forcibly remount, call drive.mount(\"/content/drive\", force_remount=True).\n"
          ]
        }
      ]
    },
    {
      "cell_type": "code",
      "source": [
        "from google.colab import drive\n",
        "drive.mount('/content/drive')\n",
        "w2v_model = gensim.models.KeyedVectors.load('/content/drive/My Drive/word2vec-google-news-300.model')"
      ],
      "metadata": {
        "colab": {
          "base_uri": "https://localhost:8080/"
        },
        "id": "7fP3oXd7h-br",
        "outputId": "496b491c-55f2-4e97-d74c-c783f990f4e6"
      },
      "id": "7fP3oXd7h-br",
      "execution_count": null,
      "outputs": [
        {
          "output_type": "stream",
          "name": "stdout",
          "text": [
            "Mounted at /content/drive\n"
          ]
        }
      ]
    },
    {
      "cell_type": "code",
      "source": [
        "from google.colab import drive\n",
        "drive.mount('/content/drive')"
      ],
      "metadata": {
        "colab": {
          "base_uri": "https://localhost:8080/"
        },
        "id": "pyfNjxsabWG-",
        "outputId": "b07253b0-c5f7-4f4c-90ab-356a096d438d"
      },
      "id": "pyfNjxsabWG-",
      "execution_count": null,
      "outputs": [
        {
          "output_type": "stream",
          "name": "stdout",
          "text": [
            "Drive already mounted at /content/drive; to attempt to forcibly remount, call drive.mount(\"/content/drive\", force_remount=True).\n"
          ]
        }
      ]
    },
    {
      "cell_type": "code",
      "execution_count": null,
      "id": "7d53926889defc38",
      "metadata": {
        "id": "7d53926889defc38"
      },
      "outputs": [],
      "source": [
        "EMBEDDING_VECTOR_DIM = w2v_model.vector_size"
      ]
    },
    {
      "cell_type": "markdown",
      "id": "21730f8dd01e5b4e",
      "metadata": {
        "collapsed": false,
        "id": "21730f8dd01e5b4e"
      },
      "source": [
        "# Dataset"
      ]
    },
    {
      "cell_type": "markdown",
      "source": [
        "When dealing with non-existent words in a dictionary, especially in the context of word embeddings like Word2Vec, there are several methods to handle them. Here are some common approaches along with their advantages and disadvantages:\n",
        "\n",
        "1. **Ignore the word (skip it)**:\n",
        "   - **Advantages**:\n",
        "     - Simplicity: It's straightforward to implement by skipping non-existent words during processing.\n",
        "     - Efficiency: Skipping non-existent words reduces the computational overhead.\n",
        "   - **Disadvantages**:\n",
        "     - Loss of Information: Ignoring non-existent words may lead to the loss of valuable information, especially in cases where those words contribute to the context or meaning.\n",
        "     - Reduced Coverage: This approach may result in incomplete representations of sentences, as some words are omitted.\n",
        "\n",
        "2. **Replace with a special token**:\n",
        "   - **Advantages**:\n",
        "     - Retains Sequence Information: Replacing non-existent words with a special token allows the model to retain the sequence information of the input text.\n",
        "     - Preserves Structure: The special token ensures that the structure of the input data remains intact.\n",
        "   - **Disadvantages**:\n",
        "     - Information Loss: Although this approach preserves the structure, it may still result in a loss of semantic information associated with the replaced words.\n",
        "     - Distortion: Depending on the chosen special token, it may introduce noise or distortion to the input data, affecting model performance.\n",
        "\n",
        "3. **Substitute with a similar word**:\n",
        "   - **Advantages**:\n",
        "     - Retains Contextual Information: Substituting non-existent words with similar ones helps preserve the contextual information of the text.\n",
        "     - Improves Representation Quality: By replacing non-existent words with similar ones, the resulting word embeddings may better capture the semantics of the text.\n",
        "   - **Disadvantages**:\n",
        "     - Semantic Shift: Substituting words with similar ones may introduce subtle shifts in meaning, especially if the replacement words are not perfect substitutes.\n",
        "     - Ambiguity: Choosing the most appropriate replacement word can be challenging, especially in cases where multiple candidates exist.\n",
        "\n",
        "4. **Spell Correction**:\n",
        "   - **Advantages**:\n",
        "     - Improves Accuracy: Correcting misspelled or non-existent words helps improve the accuracy of downstream NLP tasks.\n",
        "     - Enhances Readability: Spell-corrected text is more readable and interpretable.\n",
        "   - **Disadvantages**:\n",
        "     - Complexity: Implementing a robust spell correction mechanism can be complex, especially for languages with complex morphology or ambiguous spellings.\n",
        "     - Resource Intensive: Spell correction may require additional computational resources and time, especially for large datasets.\n",
        "\n",
        "Each method has its own trade-offs in terms of simplicity, information retention, and computational cost. The choice of method depends on the specific requirements of the NLP task and the characteristics of the input data."
      ],
      "metadata": {
        "id": "XyJx0P9GSjy3"
      },
      "id": "XyJx0P9GSjy3"
    },
    {
      "cell_type": "code",
      "execution_count": null,
      "id": "xdqLYrA4xjuX",
      "metadata": {
        "id": "xdqLYrA4xjuX"
      },
      "outputs": [],
      "source": [
        "def preprocess_data(text):\n",
        "    # Tokenization logic here\n",
        "    return text.split()\n",
        "\n",
        "class Twitter(Dataset):\n",
        "    def __init__(self, dataframe: pd.DataFrame, w2v_model: gensim.models.KeyedVectors, sequence_len: int):\n",
        "        self.dataframe = dataframe\n",
        "        self.w2v_model = w2v_model\n",
        "        self.max_sequence_len = sequence_len\n",
        "        self.vector_size = w2v_model.vector_size\n",
        "        self.df_token_col = \"tokens\"\n",
        "        self.SEQUENCE_LEN = sequence_len  # Placeholder\n",
        "        self.EMBEDDING_VECTOR_DIM = w2v_model.vector_size  # Placeholder\n",
        "\n",
        "        self._proc_dataset()\n",
        "\n",
        "        self.len = len(self.dataframe)\n",
        "\n",
        "    def __len__(self):\n",
        "        return self.len\n",
        "\n",
        "    def __getitem__(self, idx):\n",
        "        return self.dataframe.iloc[idx][\"vector\"], self.dataframe.iloc[idx][\"intention\"]\n",
        "\n",
        "    def get_vector_size(self):\n",
        "        return self.vector_size\n",
        "\n",
        "    def _proc_dataset(self):\n",
        "        # Preprocess and return tokens list\n",
        "        self.dataframe[self.df_token_col] = self.dataframe[\"latweet\"].map(preprocess_data)\n",
        "\n",
        "        # delete samples with empty tokens\n",
        "        lwz = len(self.dataframe)\n",
        "        self.dataframe = self.dataframe[self.dataframe[self.df_token_col].map(len) > 0]\n",
        "        self.dataframe.reset_index(drop=True, inplace=True)\n",
        "        print(f\"Deleted 0-Len Samples: {lwz - len(self.dataframe)}\")\n",
        "\n",
        "        # Calculate number of tokens\n",
        "        self.dataframe['num_tokens'] = self.dataframe[self.df_token_col].apply(len)\n",
        "\n",
        "        # Plot the distribution of number of tokens for each label and the entire dataset\n",
        "        plt.figure(figsize=(10, 6))\n",
        "\n",
        "        # Box plot for label 1\n",
        "        plt.subplot(1, 2, 1)\n",
        "        plt.boxplot(self.dataframe[self.dataframe['intention'] == 1]['num_tokens'])\n",
        "        plt.title('Distribution of Number of Tokens (Label 1)')\n",
        "        plt.ylabel('Number of Tokens')\n",
        "\n",
        "        # Box plot for label 0\n",
        "        plt.subplot(1, 2, 2)\n",
        "        plt.boxplot(self.dataframe[self.dataframe['intention'] == 0]['num_tokens'])\n",
        "        plt.title('Distribution of Number of Tokens (Label 0)')\n",
        "        plt.ylabel('Number of Tokens')\n",
        "\n",
        "        plt.tight_layout()\n",
        "        plt.show()\n",
        "\n",
        "        # Print minimum, maximum, and average values for the entire dataset\n",
        "        min_tokens = self.dataframe['num_tokens'].min()\n",
        "        max_tokens = self.dataframe['num_tokens'].max()\n",
        "        avg_tokens = self.dataframe['num_tokens'].mean()\n",
        "        print(f\"Minimum number of tokens: {min_tokens}\")\n",
        "        print(f\"Maximum number of tokens: {max_tokens}\")\n",
        "        print(f\"Average number of tokens: {avg_tokens}\")\n",
        "\n",
        "        # Add padding\n",
        "        self.dataframe[self.df_token_col] = self.dataframe[self.df_token_col].map(self._pad)\n",
        "\n",
        "        # Get embedding's vectors\n",
        "        self.dataframe[\"vector\"] = self.dataframe[self.df_token_col].map(self._get_word_vectors)\n",
        "\n",
        "    def _get_word_vectors(self, tokens: list) -> torch.tensor:\n",
        "        tensor = np.zeros((self.SEQUENCE_LEN, self.EMBEDDING_VECTOR_DIM))\n",
        "        for i in range(len(tokens)):\n",
        "            if tokens[i] in self.w2v_model:\n",
        "                tensor[i] = self.w2v_model[tokens[i]]\n",
        "            else:\n",
        "                tensor[i] = np.zeros(self.EMBEDDING_VECTOR_DIM)\n",
        "        tensor = torch.tensor(tensor, dtype=torch.float32)\n",
        "        return tensor\n",
        "\n",
        "    def _pad(self, tokens: list):\n",
        "        if len(tokens) >= self.SEQUENCE_LEN:\n",
        "            tokens = tokens[:self.SEQUENCE_LEN]\n",
        "        else:\n",
        "            for _ in range(self.SEQUENCE_LEN - len(tokens)):\n",
        "                tokens.append('gooogoolimagholi')\n",
        "        return tokens\n",
        "\n",
        "    def seq_report(self):\n",
        "        length_all = self.dataframe[self.df_token_col].map(len).tolist()\n",
        "        max_length = np.max(length_all)\n",
        "        print(f\"Sequence Length Report\")\n",
        "        print(f\":::::MAX  LENGTH:::[{max_length:^5}]\")\n",
        "        print(f\":::::MIN  LENGTH:::[{np.min(length_all):^5}]\")\n",
        "        print(f\":::::MEAN LENGTH:::[{np.mean(length_all):^5}]\")\n",
        "\n",
        "        all_tokens = set()\n",
        "        for token_set in self.dataframe[self.df_token_col].tolist():\n",
        "            all_tokens = all_tokens.union(set(token_set))\n",
        "        unique_tokens_count = len(all_tokens)\n",
        "        valid_tokens = sum(1 if token in self.w2v_model else 0 for token in all_tokens)\n",
        "        print(\"Sequence Tokenization Report\")\n",
        "        print(f\":::::All Unique Tokens:::[{unique_tokens_count:^6}]\")\n",
        "        print(f\":::::All Valid Tokens:::[{valid_tokens:^6}]\")\n",
        "        print(f\":::::Valid Tokens:::[{round(100 * valid_tokens / unique_tokens_count, 2):^5}%]\")\n",
        "\n",
        "    @staticmethod\n",
        "    def _to_tensor(tokens: list):\n",
        "        return torch.tensor(tokens, dtype=torch.float32)\n"
      ]
    },
    {
      "cell_type": "markdown",
      "id": "4b87e7e8b267a1c8",
      "metadata": {
        "collapsed": false,
        "id": "4b87e7e8b267a1c8"
      },
      "source": [
        "# Prepare Data"
      ]
    },
    {
      "cell_type": "markdown",
      "id": "bd00ab880892e646",
      "metadata": {
        "collapsed": false,
        "id": "bd00ab880892e646"
      },
      "source": [
        "## Split Data into train-valid"
      ]
    },
    {
      "cell_type": "code",
      "execution_count": null,
      "id": "6a54facda2729872",
      "metadata": {
        "id": "6a54facda2729872"
      },
      "outputs": [],
      "source": [
        "# TODO: Split dataset into train-test split\n",
        "df_copy = twitter_data.copy()\n",
        "train, test = train_test_split(df_copy, test_size=0.2, random_state=0)\n",
        "print(train.head())"
      ]
    },
    {
      "cell_type": "markdown",
      "id": "670fcd8db0e5651c",
      "metadata": {
        "collapsed": false,
        "id": "670fcd8db0e5651c"
      },
      "source": [
        "## Create Datasets"
      ]
    },
    {
      "cell_type": "code",
      "execution_count": null,
      "id": "3e4a5b690afadad5",
      "metadata": {
        "id": "3e4a5b690afadad5"
      },
      "outputs": [],
      "source": [
        "# TODO: create twitter dataset\n",
        "train_dataset = Twitter(\n",
        "    train, w2v_model, SEQUENCE_LEN\n",
        ")\n",
        "valid_dataset = Twitter(\n",
        "    test, w2v_model, SEQUENCE_LEN\n",
        ")\n",
        "\n",
        "print(f\"Train dataset length: {len(train_dataset)}\")\n",
        "print(f\"Valid dataset length: {len(valid_dataset)}\")\n"
      ]
    },
    {
      "cell_type": "markdown",
      "id": "fd1da733e79676ff",
      "metadata": {
        "collapsed": false,
        "id": "fd1da733e79676ff"
      },
      "source": [
        "# Model and Train"
      ]
    },
    {
      "cell_type": "markdown",
      "id": "aa29012e257e3d9",
      "metadata": {
        "collapsed": false,
        "id": "aa29012e257e3d9"
      },
      "source": [
        "## Utils"
      ]
    },
    {
      "cell_type": "code",
      "execution_count": null,
      "id": "d5b33657ae501516",
      "metadata": {
        "id": "d5b33657ae501516"
      },
      "outputs": [],
      "source": [
        "@torch.no_grad()\n",
        "def model_eval(model, loader, loss_function, device: str):\n",
        "    \"\"\"Returns test_loss, test_acc\"\"\"\n",
        "    test_loss = 0.0\n",
        "    test_acc = 0.0\n",
        "\n",
        "    if device == \"auto\":\n",
        "        device = torch.device(\"cuda\" if torch.cuda.is_available() else \"cpu\")\n",
        "\n",
        "    model = model.to(device)\n",
        "    itr = tqdm(loader, total=len(loader), leave=False)\n",
        "\n",
        "    for inputs, labels in itr:\n",
        "        # TODO: move model's inputs to `device`\n",
        "\n",
        "        # TODO: use model's forward pass to generate outputs\n",
        "\n",
        "        # TODO: calculate model's loss\n",
        "        # loss =\n",
        "\n",
        "        # TODO: calculate/update model's accuracy\n",
        "        inputs = inputs.to(device)\n",
        "        labels = labels.to(device)\n",
        "\n",
        "        # Forward pass\n",
        "        outputs = model(inputs)\n",
        "\n",
        "        # Calculate loss\n",
        "        loss = loss_function(outputs, labels)\n",
        "        test_loss += loss.item() * inputs.size(0)\n",
        "\n",
        "        # Calculate accuracy\n",
        "        _, preds = torch.max(outputs,1)\n",
        "        corrects = torch.sum(preds == labels.data)\n",
        "        test_acc += corrects.double()\n",
        "\n",
        "        # Update progress bar\n",
        "\n",
        "        itr.set_description(\"(Eval)\")\n",
        "        itr.set_postfix(\n",
        "            loss=round(loss.item(), 5),\n",
        "            accuracy = test_acc,\n",
        "        )\n",
        "    test_loss /= len(loader.dataset)\n",
        "    test_acc /= len(loader.dataset)\n",
        "    return test_loss, test_acc\n"
      ]
    },
    {
      "cell_type": "code",
      "execution_count": null,
      "id": "1bc1edee98f616b5",
      "metadata": {
        "id": "1bc1edee98f616b5"
      },
      "outputs": [],
      "source": [
        "def train_model(\n",
        "        model,\n",
        "        batch_size,\n",
        "        loss_function,\n",
        "        optimizer,\n",
        "        epochs,\n",
        "        train_set,\n",
        "        valid_set,\n",
        "        device: str,\n",
        "):\n",
        "\n",
        "    if device == \"auto\":\n",
        "        device = torch.device(\"cuda\" if torch.cuda.is_available() else \"cpu\")\n",
        "    model.to(device)\n",
        "\n",
        "    train_losses = []\n",
        "    train_accs = []\n",
        "\n",
        "    valid_losses = []\n",
        "    valid_accs = []\n",
        "\n",
        "    # TODO: create dataloaders from datasets\n",
        "    train_loader = DataLoader(train_set, batch_size=batch_size, shuffle=True)\n",
        "    valid_loader = DataLoader(valid_set, batch_size=batch_size)\n",
        "\n",
        "    model.to(device)\n",
        "\n",
        "    for epoch in range(epochs):\n",
        "        model.train()\n",
        "        epoch_loss = 0\n",
        "        epoch_acc = 0\n",
        "        itr = tqdm(train_loader, total=len(train_loader), leave=False)\n",
        "        for idx, (inputs, labels) in enumerate(itr, start=1):\n",
        "            # TODO: move model's inputs to device\n",
        "            inputs = inputs.to(device)\n",
        "            labels = labels.to(device)\n",
        "            # TODO: use model's forward pass to generate outputs\n",
        "            outputs = model(inputs)\n",
        "            # TODO: process model's predictipns and calculate/update accuracy\n",
        "            _, preds = torch.max(outputs, 1)\n",
        "            corrects = torch.sum(preds == labels.data)\n",
        "            epoch_acc += corrects.double()\n",
        "\n",
        "            # TODO: calculate model's loss and update epoch's loss\n",
        "            loss = loss_function(outputs, labels)\n",
        "            epoch_loss += loss.item() * inputs.size(0)\n",
        "\n",
        "            # TODO: 1. clear optimizer's state and zero prev grads,\n",
        "            optimizer.zero_grad()\n",
        "            # TODO: 2. backward calculated loss\n",
        "            loss.backward()\n",
        "            # TODO: 3. step optimizer\n",
        "            optimizer.step()\n",
        "\n",
        "            itr.set_description(f\"(Training) Epoch [{epoch + 1}/{epochs}]\")\n",
        "            itr.set_postfix(\n",
        "              loss=round(loss.item(), 5),\n",
        "              accuracy=epoch_acc,\n",
        "              )\n",
        "\n",
        "        model.eval()\n",
        "        valid_loss, valid_acc = model_eval(\n",
        "            model=model,\n",
        "            loader=valid_loader,\n",
        "            loss_function=loss_function,\n",
        "            device=device\n",
        "            )\n",
        "\n",
        "        # TODO: update statistics regaurding model's loss and acc in training or validation phases\n",
        "        valid_losses.append(valid_loss)\n",
        "        valid_accs.append(valid_acc)\n",
        "        epoch_loss = epoch_loss / len(train_set)\n",
        "        epoch_acc = epoch_acc / len(train_set)\n",
        "        train_losses.append(epoch_loss)\n",
        "        train_accs.append(epoch_acc)\n",
        "\n",
        "    history = {\n",
        "      \"train_loss\": train_losses,\n",
        "      \"train_acc\": train_accs,\n",
        "\n",
        "      \"valid_loss\": valid_losses,\n",
        "      \"valid_acc\": valid_accs,\n",
        "    }\n",
        "    return history"
      ]
    },
    {
      "cell_type": "code",
      "execution_count": null,
      "id": "6e5acc20a7d5d446",
      "metadata": {
        "id": "6e5acc20a7d5d446"
      },
      "outputs": [],
      "source": [
        "def trend_plot_helper(pobj):\n",
        "    plt.figure(figsize=(5 * len(pobj), 5))\n",
        "    for idx, (titler, plots) in enumerate(pobj.items(), start=1):\n",
        "        plt.subplot(1, len(pobj), idx)\n",
        "        for label, trend in plots:\n",
        "            # Ensure the tensor is on the CPU and converted to a NumPy array\n",
        "            if isinstance(trend, torch.Tensor):\n",
        "                if trend.is_cuda:\n",
        "                    trend = trend.cpu().numpy()\n",
        "                else:\n",
        "                    trend = trend.numpy()\n",
        "            else:\n",
        "                trend = [t.cpu().numpy() if isinstance(t, torch.Tensor) and t.is_cuda else t.numpy() if isinstance(t, torch.Tensor) else t for t in trend]\n",
        "            plt.plot(range(1, len(trend) + 1), trend, label=label)\n",
        "        yt, xt = titler.split(' - ')\n",
        "        plt.xlabel(xt)\n",
        "        plt.ylabel(yt)\n",
        "        plt.legend()\n",
        "    plt.show()"
      ]
    },
    {
      "cell_type": "code",
      "execution_count": null,
      "id": "819f88c36492de48",
      "metadata": {
        "id": "819f88c36492de48"
      },
      "outputs": [],
      "source": [
        "@torch.no_grad()\n",
        "def generate_confusion_matrix(model, dataset, device='auto'):\n",
        "    if device == 'auto':\n",
        "        device = torch.device(\"cuda\" if torch.cuda.is_available() else \"cpu\")\n",
        "    model = model.to(device)\n",
        "\n",
        "    loader = DataLoader(dataset, batch_size=32, shuffle=False)\n",
        "    itr = tqdm(loader, leave=False, desc=\"Generate data\")\n",
        "\n",
        "    all_labels = []\n",
        "    all_preds = []\n",
        "\n",
        "    for data in itr:\n",
        "        inputs, labels = data\n",
        "        inputs = inputs.to(device)\n",
        "        labels = labels.to(device)\n",
        "\n",
        "        outputs = model(inputs)\n",
        "        _, predicted = torch.max(outputs, 1)\n",
        "\n",
        "        all_labels.extend(labels.cpu().numpy())  # Move to CPU and convert to numpy\n",
        "        all_preds.extend(predicted.cpu().numpy())  # Move to CPU and convert to numpy\n",
        "\n",
        "    labels = np.array(all_labels)\n",
        "    predicted = np.array(all_preds)\n",
        "\n",
        "    cm = metrics.confusion_matrix(y_true=labels, y_pred=predicted)\n",
        "\n",
        "    plt.figure(figsize=(10, 10))\n",
        "    sns.heatmap(cm, cmap='Blues', annot=True, cbar=False, fmt=\".0f\")\n",
        "    plt.xlabel('Predicted Label', labelpad=20)\n",
        "    plt.ylabel('True Label', labelpad=20)\n",
        "    plt.title('Confusion Matrix', fontsize=30)\n",
        "\n",
        "    recall = metrics.recall_score(y_true=labels, y_pred=predicted, average='macro')\n",
        "    f1 = metrics.f1_score(y_true=labels, y_pred=predicted, average='macro')\n",
        "    precision = metrics.precision_score(y_true=labels, y_pred=predicted, average='macro')\n",
        "    report = metrics.classification_report(y_true=labels, y_pred=predicted)\n",
        "\n",
        "    return {'recall': recall, 'f1': f1, 'precision': precision, 'report': report}"
      ]
    },
    {
      "cell_type": "markdown",
      "id": "1566b2a8428318c8",
      "metadata": {
        "collapsed": false,
        "id": "1566b2a8428318c8"
      },
      "source": [
        "## Model's Network"
      ]
    },
    {
      "cell_type": "markdown",
      "source": [
        "The kernel size in convolutional layers plays a crucial role in determining the receptive field of the convolution operation and the type of features extracted from the input data. Here's how the kernel size affects the convolutional operation and feature extraction:\n",
        "\n",
        "### Effect of Kernel Size:\n",
        "\n",
        "1. **Receptive Field**:\n",
        "   - The kernel size defines the size of the receptive field, which is the region of the input data that the convolutional operation considers when computing the output feature map.\n",
        "   - A larger kernel size results in a larger receptive field, allowing the convolutional layer to capture more global spatial information from the input data.\n",
        "   - Conversely, a smaller kernel size restricts the receptive field to a smaller region, capturing more local features.\n",
        "\n",
        "2. **Feature Extraction**:\n",
        "   - Larger Kernel Size:\n",
        "     - Extracts more global features and spatial patterns from the input data.\n",
        "     - Useful for capturing large-scale structures and context in images or sequences.\n",
        "     - Can lead to more translation-invariant features.\n",
        "   - Smaller Kernel Size:\n",
        "     - Captures finer details and local patterns in the input data.\n",
        "     - More sensitive to small-scale variations and edges.\n",
        "     - Can lead to more precise localization of features.\n",
        "\n",
        "### Effectiveness in Feature Extraction:\n",
        "\n",
        "1. **More Kernel Size**:\n",
        "   - Using larger kernel sizes is effective when dealing with input data containing large-scale structures or when capturing global context is important.\n",
        "   - It helps in learning higher-level representations and abstract features from the input data.\n",
        "   - However, using excessively large kernel sizes may result in information loss and computational inefficiency, especially in deeper networks.\n",
        "\n",
        "2. **Less Kernel Size**:\n",
        "   - Smaller kernel sizes are effective for extracting fine-grained details and local patterns.\n",
        "   - They are suitable for tasks where precise localization and capturing small-scale variations are crucial, such as edge detection or object recognition.\n",
        "   - However, using smaller kernel sizes alone may limit the model's ability to capture global context and large-scale structures in the input data.\n",
        "\n",
        "### Finding the Right Balance:\n",
        "   - The choice of kernel size depends on various factors, including the nature of the input data, the complexity of the task, and the architectural design of the neural network.\n",
        "   - Experimentation and empirical evaluation are essential to determine the optimal kernel size for a specific task and dataset.\n",
        "   - In practice, convolutional neural networks often use a combination of different kernel sizes in multiple convolutional layers to capture both local and global features effectively.\n",
        "\n",
        "In summary, the kernel size in convolutional layers significantly influences the receptive field and the type of features extracted from the input data. Choosing an appropriate kernel size involves balancing between capturing local details and global context, depending on the requirements of the task and characteristics of the input data."
      ],
      "metadata": {
        "id": "ehJk_BdaYjQT"
      },
      "id": "ehJk_BdaYjQT"
    },
    {
      "cell_type": "markdown",
      "source": [
        "The decision to reduce the dimensionality of the feature maps typically occurs after convolutional layers and before fully connected layers in convolutional neural networks (CNNs). This reduction is often achieved through techniques like max pooling or average pooling, or occasionally through convolutional layers with strides greater than 1. However, using feedforward layers (fully connected layers) for dimensionality reduction can offer several advantages over these alternative methods:\n",
        "\n",
        "1. **Parameter Efficiency**:\n",
        "   - Fully connected layers (FC layers) have a smaller number of parameters compared to convolutional layers with the same output size. This reduction in parameters can lead to more efficient training and inference, especially in terms of memory and computation.\n",
        "\n",
        "2. **Global Context Integration**:\n",
        "   - FC layers can capture global context from the entire feature map, as each neuron in the FC layer is connected to every neuron in the preceding layer. This enables the model to learn complex relationships and interactions between different parts of the feature map.\n",
        "\n",
        "3. **Non-Local Feature Aggregation**:\n",
        "   - FC layers aggregate features globally across the entire feature map, whereas pooling operations aggregate features locally within specific regions. This allows FC layers to capture non-local correlations and dependencies in the data, which may be beneficial for certain tasks.\n",
        "\n",
        "4. **Flexibility in Dimensionality Reduction**:\n",
        "   - FC layers provide flexibility in dimensionality reduction, allowing the network to learn the most informative representations for the task at hand. The network can adaptively adjust the weights of the FC layers during training to emphasize relevant features and suppress irrelevant ones.\n",
        "\n",
        "5. **Normalization and Regularization**:\n",
        "   - FC layers often include normalization and regularization techniques, such as batch normalization and dropout, which can improve the generalization performance of the model and mitigate overfitting.\n",
        "\n",
        "While FC layers offer these advantages, it's essential to consider the trade-offs and potential limitations:\n",
        "\n",
        "- **Increased Parameter Sensitivity**:\n",
        "  - Fully connected layers have a large number of parameters, which can make the model more sensitive to overfitting, especially when dealing with high-dimensional data.\n",
        "\n",
        "- **Loss of Spatial Information**:\n",
        "  - FC layers discard spatial information present in the feature maps, as they collapse the entire feature map into a one-dimensional vector. This loss of spatial information may be disadvantageous for tasks where spatial relationships are crucial, such as image segmentation.\n",
        "\n",
        "- **Increased Computational Complexity**:\n",
        "  - Fully connected layers can be computationally expensive, especially when dealing with large input feature maps. This increased complexity may hinder the scalability of the model, particularly for real-time applications or deployment on resource-constrained devices.\n",
        "\n",
        "Overall, the decision to use FC layers for dimensionality reduction in CNNs involves a balance between parameter efficiency, representational power, and computational considerations, depending on the specific requirements of the task and the characteristics of the input data."
      ],
      "metadata": {
        "id": "oPURxF4uY_KP"
      },
      "id": "oPURxF4uY_KP"
    },
    {
      "cell_type": "code",
      "execution_count": null,
      "id": "a2ed27ccf8d0307c",
      "metadata": {
        "id": "a2ed27ccf8d0307c"
      },
      "outputs": [],
      "source": [
        "class CNN(nn.Module):\n",
        "    def __init__(self): # TODO: define your args here\n",
        "        super(CNN, self).__init__()\n",
        "\n",
        "        # TODO: define you network's layers here\n",
        "        # Convolutional layers for first block\n",
        "        self.conv1_1 = nn.Conv1d(in_channels=64, out_channels=64, kernel_size=3)\n",
        "        self.conv1_2 = nn.Conv1d(in_channels=64, out_channels=64, kernel_size=5)\n",
        "        self.conv1_3 = nn.Conv1d(in_channels=64, out_channels=64, kernel_size=7)\n",
        "\n",
        "        # Convolutional layers for second block\n",
        "        self.conv2_1 = nn.Conv1d(in_channels=64, out_channels=128, kernel_size=3)\n",
        "        self.conv2_2 = nn.Conv1d(in_channels=64, out_channels=128, kernel_size=5)\n",
        "        self.conv2_3 = nn.Conv1d(in_channels=64, out_channels=128, kernel_size=7)\n",
        "\n",
        "        # Max pooling layer\n",
        "        self.max_pool1 = nn.MaxPool1d(kernel_size=3)\n",
        "        self.max_pool2 = nn.MaxPool1d(kernel_size=5)\n",
        "        self.max_pool3 = nn.MaxPool1d(kernel_size=7)\n",
        "\n",
        "        # Flatten layer\n",
        "        self.flatten = nn.Flatten()\n",
        "\n",
        "        # Fully connected layers\n",
        "        self.fc1 = nn.Linear(15744, 128)\n",
        "        self.fc2 = nn.Linear(128, 2)  # Output size is 2 for binary classification\n",
        "\n",
        "    def forward(self, x):\n",
        "\n",
        "        # TODO: implement forward pass here\n",
        "        # First block of convolutional layers\n",
        "        x1_1 = torch.relu(self.conv1_1(x))\n",
        "        x1_2 = torch.relu(self.conv1_2(x))\n",
        "        x1_3 = torch.relu(self.conv1_3(x))\n",
        "\n",
        "        # Second block of convolutional layers\n",
        "        x2_1 = torch.relu(self.conv2_1(x1_1))\n",
        "        x2_2 = torch.relu(self.conv2_2(x1_2))\n",
        "        x2_3 = torch.relu(self.conv2_3(x1_3))\n",
        "\n",
        "        # Apply max pooling after the second block\n",
        "        x2_1_pooled = self.max_pool1(x2_1)\n",
        "        x2_2_pooled = self.max_pool2(x2_2)\n",
        "        x2_3_pooled = self.max_pool3(x2_3)\n",
        "\n",
        "        # Trim the pooled tensors to match the smallest size\n",
        "        min_size = min(x2_1_pooled.size(2), x2_2_pooled.size(2), x2_3_pooled.size(2))\n",
        "        x2_1_pooled = x2_1_pooled[:, :, :min_size]\n",
        "        x2_2_pooled = x2_2_pooled[:, :, :min_size]\n",
        "        x2_3_pooled = x2_3_pooled[:, :, :min_size]\n",
        "\n",
        "        # Concatenate the pooled tensors\n",
        "        x_cat = torch.cat((x2_1_pooled, x2_2_pooled, x2_3_pooled), dim=1)\n",
        "\n",
        "        # Flatten the output\n",
        "        x_flat = self.flatten(x_cat)\n",
        "\n",
        "        # Fully connected layers\n",
        "        x_fc1 = torch.relu(self.fc1(x_flat))\n",
        "        x_fc2 = self.fc2(x_fc1)\n",
        "\n",
        "        return x_fc2\n",
        "        # return\n",
        "\n",
        "\n",
        "# import torch.nn.functional as F\n",
        "\n",
        "# class CNN(nn.Module):\n",
        "#     def __init__(self):\n",
        "#         super(CNN, self).__init__()\n",
        "\n",
        "#         # Convolutional layers for first block\n",
        "#         self.conv1_1 = nn.Conv1d(in_channels=64, out_channels=64, kernel_size=3)\n",
        "#         self.conv1_2 = nn.Conv1d(in_channels=64, out_channels=64, kernel_size=5)\n",
        "#         self.conv1_3 = nn.Conv1d(in_channels=64, out_channels=64, kernel_size=7)\n",
        "\n",
        "#         # Convolutional layers for second block\n",
        "#         self.conv2_1 = nn.Conv1d(in_channels=64, out_channels=128, kernel_size=3)\n",
        "#         self.conv2_2 = nn.Conv1d(in_channels=64, out_channels=128, kernel_size=5)\n",
        "#         self.conv2_3 = nn.Conv1d(in_channels=64, out_channels=128, kernel_size=7)\n",
        "\n",
        "#         # Max pooling layer\n",
        "#         self.max_pool1 = nn.MaxPool1d(kernel_size=3)\n",
        "#         self.max_pool2 = nn.MaxPool1d(kernel_size=5)\n",
        "#         self.max_pool3 = nn.MaxPool1d(kernel_size=7)\n",
        "\n",
        "#         # Dropout layers\n",
        "#         self.dropout1 = nn.Dropout(p=0.75)\n",
        "#         self.dropout2 = nn.Dropout(p=0.75)\n",
        "\n",
        "#         # Batch Normalization layers\n",
        "#         self.bn1 = nn.BatchNorm1d(128)\n",
        "#         self.bn2 = nn.BatchNorm1d(128)\n",
        "\n",
        "#         # Flatten layer\n",
        "#         self.flatten = nn.Flatten()\n",
        "\n",
        "#         # Fully connected layers\n",
        "#         self.fc1 = nn.Linear(15744, 128)\n",
        "#         self.fc2 = nn.Linear(128, 2)  # Output size is 2 for binary classification\n",
        "\n",
        "#     def forward(self, x):\n",
        "#         # First block of convolutional layers\n",
        "#         x1_1 = F.relu(self.conv1_1(x))\n",
        "#         x1_2 = F.relu(self.conv1_2(x))\n",
        "#         x1_3 = F.relu(self.conv1_3(x))\n",
        "\n",
        "#         # Second block of convolutional layers\n",
        "#         x2_1 = F.relu(self.conv2_1(x1_1))\n",
        "#         x2_2 = F.relu(self.conv2_2(x1_2))\n",
        "#         x2_3 = F.relu(self.conv2_3(x1_3))\n",
        "\n",
        "#         # Apply max pooling after the second block\n",
        "#         x2_1_pooled = self.max_pool1(x2_1)\n",
        "#         x2_2_pooled = self.max_pool2(x2_2)\n",
        "#         x2_3_pooled = self.max_pool3(x2_3)\n",
        "\n",
        "#         # Trim the pooled tensors to match the smallest size\n",
        "#         min_size = min(x2_1_pooled.size(2), x2_2_pooled.size(2), x2_3_pooled.size(2))\n",
        "#         x2_1_pooled = x2_1_pooled[:, :, :min_size]\n",
        "#         x2_2_pooled = x2_2_pooled[:, :, :min_size]\n",
        "#         x2_3_pooled = x2_3_pooled[:, :, :min_size]\n",
        "\n",
        "#         # Concatenate the pooled tensors\n",
        "#         x_cat = torch.cat((x2_1_pooled, x2_2_pooled, x2_3_pooled), dim=1)\n",
        "\n",
        "#         # Flatten the output\n",
        "#         x_flat = self.flatten(x_cat)\n",
        "\n",
        "#         # Fully connected layers with Dropout and Batch Normalization\n",
        "#         x_fc1 = F.relu(self.bn1(self.fc1(self.dropout1(x_flat))))\n",
        "#         x_fc2 = self.fc2(self.dropout2(x_fc1))\n",
        "\n",
        "#         return x_fc2"
      ]
    },
    {
      "cell_type": "markdown",
      "source": [
        "## Training"
      ],
      "metadata": {
        "id": "-XhOZ_qwF6Bh"
      },
      "id": "-XhOZ_qwF6Bh"
    },
    {
      "cell_type": "markdown",
      "source": [
        "The Adam (Adaptive Moment Estimation) optimizer is an extension of the stochastic gradient descent (SGD) algorithm, specifically designed to improve upon SGD by adapting the learning rate for each parameter. Here's a brief explanation of how Adam works and how it differs from SGD:\n",
        "\n",
        "### How Adam Optimizer Works\n",
        "\n",
        "1. **Adaptive Learning Rates**:\n",
        "   - Adam maintains two moving averages for each parameter: the first moment (mean) and the second moment (uncentered variance) of the gradients.\n",
        "   - These moving averages are updated using exponential decay rates, allowing the optimizer to adapt the learning rate for each parameter based on the historical gradients.\n",
        "\n",
        "2. **First Moment Estimate (Mean)**:\n",
        "   - \\( m_t = \\beta_1 m_{t-1} + (1 - \\beta_1) g_t \\)\n",
        "   - This is an exponentially decaying average of past gradients, where \\( g_t \\) is the gradient at time step \\( t \\).\n",
        "\n",
        "3. **Second Moment Estimate (Variance)**:\n",
        "   - \\( v_t = \\beta_2 v_{t-1} + (1 - \\beta_2) g_t^2 \\)\n",
        "   - This is an exponentially decaying average of past squared gradients, capturing the variance.\n",
        "\n",
        "4. **Bias Correction**:\n",
        "   - To counteract the biases introduced during the initialization (when moving averages are close to zero), Adam includes bias correction terms:\n",
        "   - \\( \\hat{m}_t = \\frac{m_t}{1 - \\beta_1^t} \\)\n",
        "   - \\( \\hat{v}_t = \\frac{v_t}{1 - \\beta_2^t} \\)\n",
        "\n",
        "5. **Parameter Update**:\n",
        "   - Parameters are updated using the bias-corrected estimates:\n",
        "   - \\( \\theta_{t+1} = \\theta_t - \\alpha \\frac{\\hat{m}_t}{\\sqrt{\\hat{v}_t} + \\epsilon} \\)\n",
        "   - Here, \\( \\alpha \\) is the learning rate, and \\( \\epsilon \\) is a small constant to prevent division by zero.\n",
        "\n",
        "### Differences Between Adam and SGD\n",
        "\n",
        "1. **Learning Rate**:\n",
        "   - **SGD**: Uses a single, global learning rate for all parameters, which remains constant or is manually adjusted.\n",
        "   - **Adam**: Adapts the learning rate for each parameter individually based on the first and second moments of the gradients, leading to a more nuanced and potentially faster convergence.\n",
        "\n",
        "2. **Gradient Estimation**:\n",
        "   - **SGD**: Utilizes the gradient of the loss function with respect to parameters directly for updates.\n",
        "   - **Adam**: Incorporates moving averages of the gradients and their squares, providing a smoother and more stable convergence path.\n",
        "\n",
        "3. **Bias Correction**:\n",
        "   - **SGD**: Does not have bias correction since it uses the gradients directly.\n",
        "   - **Adam**: Applies bias correction to account for the initialization bias of the moving averages.\n",
        "\n",
        "4. **Speed and Stability**:\n",
        "   - **SGD**: Can be slower and less stable, especially with sparse or noisy gradients.\n",
        "   - **Adam**: Typically converges faster and is more robust to noisy gradients due to its adaptive learning rates and moment estimates.\n",
        "\n",
        "In summary, Adam is an advanced optimization algorithm that builds upon SGD by incorporating adaptive learning rates and moment estimates, resulting in faster and more stable convergence. This makes Adam particularly useful for training deep learning models with large and complex datasets."
      ],
      "metadata": {
        "id": "FbV6cfZBT2IB"
      },
      "id": "FbV6cfZBT2IB"
    },
    {
      "cell_type": "markdown",
      "source": [
        "The cross-entropy cost function, often referred to as cross-entropy loss, is commonly used in classification tasks, particularly in scenarios where the output is a probability distribution over multiple classes. Here's when and why we use the cross-entropy cost function:\n",
        "\n",
        "### When to Use Cross-Entropy Cost Function:\n",
        "\n",
        "1. **Classification Problems**:\n",
        "   - Cross-entropy loss is widely used in classification problems where the goal is to assign an input to one of multiple predefined classes.\n",
        "   - It's suitable for both binary classification (two classes) and multiclass classification (more than two classes).\n",
        "\n",
        "2. **Probability Output**:\n",
        "   - Cross-entropy loss is applicable when the model output consists of predicted probabilities for each class.\n",
        "   - It's commonly used in conjunction with softmax activation at the output layer to ensure the predicted probabilities sum up to 1.\n",
        "\n",
        "### Why Use Cross-Entropy Cost Function:\n",
        "\n",
        "1. **Suitability for Probability Distributions**:\n",
        "   - Cross-entropy loss is derived from information theory and measures the dissimilarity between two probability distributions: the predicted distribution and the true distribution (labels).\n",
        "   - In classification tasks, the true distribution typically consists of one-hot encoded labels or probability distributions representing the ground truth.\n",
        "\n",
        "2. **Gradient Properties**:\n",
        "   - Cross-entropy loss exhibits desirable gradient properties, leading to efficient optimization during training.\n",
        "   - It produces larger gradients when the predicted probabilities diverge from the true distribution, facilitating faster convergence.\n",
        "\n",
        "3. **Optimization Stability**:\n",
        "   - Cross-entropy loss is well-suited for optimization algorithms like gradient descent and its variants (e.g., Adam) due to its smooth and convex nature.\n",
        "   - It helps stabilize the optimization process and prevents issues like vanishing gradients commonly associated with other loss functions.\n",
        "\n",
        "4. **Interpretability**:\n",
        "   - The cross-entropy loss provides a clear and intuitive interpretation: lower loss values indicate better alignment between predicted and true distributions, implying improved model performance.\n",
        "\n",
        "5. **Probabilistic Interpretation**:\n",
        "   - Using cross-entropy loss encourages the model to produce output probabilities that accurately represent the likelihood of each class, making the model's predictions more interpretable and reliable.\n",
        "\n",
        "In summary, the cross-entropy cost function is preferred in classification tasks due to its compatibility with probability distributions, desirable gradient properties, optimization stability, and interpretability. Its use enables efficient training of classification models, leading to accurate and reliable predictions."
      ],
      "metadata": {
        "id": "GQ_6zX1UXWSt"
      },
      "id": "GQ_6zX1UXWSt"
    },
    {
      "cell_type": "code",
      "execution_count": null,
      "id": "76d30ba6554b6c48",
      "metadata": {
        "id": "76d30ba6554b6c48"
      },
      "outputs": [],
      "source": [
        "# TODO: instantiate your model here\n",
        "model = CNN()"
      ]
    },
    {
      "cell_type": "code",
      "execution_count": null,
      "id": "a57ddcb0836683ec",
      "metadata": {
        "colab": {
          "base_uri": "https://localhost:8080/"
        },
        "id": "a57ddcb0836683ec",
        "outputId": "e2c90f5e-1ba5-4dab-878b-2e8f382e0a56"
      },
      "outputs": [
        {
          "output_type": "stream",
          "name": "stderr",
          "text": []
        }
      ],
      "source": [
        "criterion = nn.CrossEntropyLoss()\n",
        "optimizer = torch.optim.Adam(model.parameters(), lr=LEARNING_RATE , weight_decay = WEIGHT_DECAY)\n",
        "\n",
        "cnn_model_train_history = train_model(\n",
        "  model , BATCH_SIZE , criterion , optimizer , EPOCHS , train_dataset , valid_dataset , 'auto'\n",
        ")"
      ]
    },
    {
      "cell_type": "code",
      "execution_count": null,
      "id": "ac375ced89f224ce",
      "metadata": {
        "id": "ac375ced89f224ce",
        "colab": {
          "base_uri": "https://localhost:8080/",
          "height": 424
        },
        "outputId": "c06bcc94-19f5-4fcd-e460-44bc531ea76b"
      },
      "outputs": [
        {
          "output_type": "display_data",
          "data": {
            "text/plain": [
              "<Figure size 1000x500 with 2 Axes>"
            ],
            "image/png": "[encoded data removed]"
          },
          "metadata": {}
        }
      ],
      "source": [
        "trend_plot_helper(\n",
        "    {\n",
        "        \"Accuracy - Epoch\": [\n",
        "            (\"Train Acc\", cnn_model_train_history[\"train_acc\"]),\n",
        "            (\"Validation Acc\", cnn_model_train_history[\"valid_acc\"]),\n",
        "        ],\n",
        "        \"Loss - Epoch\": [\n",
        "            (\"Train Loss\", cnn_model_train_history[\"train_loss\"]),\n",
        "            (\"Validation Loss\", cnn_model_train_history[\"valid_loss\"])\n",
        "        ]\n",
        "    }\n",
        ")"
      ]
    },
    {
      "cell_type": "code",
      "execution_count": null,
      "id": "a09473d5783fa70f",
      "metadata": {
        "id": "a09473d5783fa70f",
        "colab": {
          "base_uri": "https://localhost:8080/",
          "height": 827
        },
        "outputId": "cc102dc7-e9f7-4799-cfa1-86f62143db38"
      },
      "outputs": [
        {
          "output_type": "stream",
          "name": "stderr",
          "text": []
        },
        {
          "output_type": "display_data",
          "data": {
            "text/plain": [
              "<Figure size 1000x1000 with 1 Axes>"
            ],
            "image/png": "[encoded data removed]"
          },
          "metadata": {}
        }
      ],
      "source": [
        "cnn_model_report = generate_confusion_matrix(\n",
        "    model=model,\n",
        "    dataset=valid_dataset,\n",
        ")"
      ]
    },
    {
      "cell_type": "code",
      "execution_count": null,
      "id": "8ee01e4607601dd8",
      "metadata": {
        "id": "8ee01e4607601dd8",
        "colab": {
          "base_uri": "https://localhost:8080/"
        },
        "outputId": "de4b4f4d-c12a-4972-a048-40c075b5a477"
      },
      "outputs": [
        {
          "output_type": "stream",
          "name": "stdout",
          "text": [
            "Recall:    0.894\n",
            "F1:        0.895\n",
            "Precision: 0.897\n",
            "              precision    recall  f1-score   support\n",
            "\n",
            "           0       0.91      0.92      0.91      1057\n",
            "           1       0.89      0.87      0.88       764\n",
            "\n",
            "    accuracy                           0.90      1821\n",
            "   macro avg       0.90      0.89      0.90      1821\n",
            "weighted avg       0.90      0.90      0.90      1821\n",
            "\n"
          ]
        }
      ],
      "source": [
        "print(f\"Recall:    {cnn_model_report['recall']:.3f}\")\n",
        "print(f\"F1:        {cnn_model_report['f1']:.3f}\")\n",
        "print(f\"Precision: {cnn_model_report['precision']:.3f}\")\n",
        "print(cnn_model_report['report'])"
      ]
    },
    {
      "cell_type": "code",
      "source": [
        "from google.colab import files\n",
        "f = files.upload()\n",
        "\n",
        "# Convert ipynb to html\n",
        "import subprocess\n",
        "file0 = list(f.keys())[0]\n",
        "_ = subprocess.run([\"pip\", \"install\", \"nbconvert\"])\n",
        "_ = subprocess.run([\"jupyter\", \"nbconvert\", file0, \"--to\", \"html\"])\n",
        "\n",
        "# download the html\n",
        "files.download(file0[:-5]+\"html\")"
      ],
      "metadata": {
        "colab": {
          "base_uri": "https://localhost:8080/",
          "height": 38
        },
        "id": "FeI_JzSPMRUG",
        "outputId": "2ec1871a-5007-48a2-9c48-048d51694b56"
      },
      "id": "FeI_JzSPMRUG",
      "execution_count": null,
      "outputs": [
        {
          "output_type": "display_data",
          "data": {
            "text/plain": [
              "<IPython.core.display.HTML object>"
            ],
            "text/html": [
              "\n",
              "     <input type=\"file\" id=\"files-11acb872-46ad-4ed2-b04a-8b89c524d51e\" name=\"files[]\" multiple disabled\n",
              "        style=\"border:none\" />\n",
              "     <output id=\"result-11acb872-46ad-4ed2-b04a-8b89c524d51e\">\n",
              "      Upload widget is only available when the cell has been executed in the\n",
              "      current browser session. Please rerun this cell to enable.\n",
              "      </output>\n",
              "      <script>// Copyright 2017 Google LLC\n",
              "//\n",
              "// Licensed under the Apache License, Version 2.0 (the \"License\");\n",
              "// you may not use this file except in compliance with the License.\n",
              "// You may obtain a copy of the License at\n",
              "//\n",
              "//      http://www.apache.org/licenses/LICENSE-2.0\n",
              "//\n",
              "// Unless required by applicable law or agreed to in writing, software\n",
              "// distributed under the License is distributed on an \"AS IS\" BASIS,\n",
              "// WITHOUT WARRANTIES OR CONDITIONS OF ANY KIND, either express or implied.\n",
              "// See the License for the specific language governing permissions and\n",
              "// limitations under the License.\n",
              "\n",
              "/**\n",
              " * @fileoverview Helpers for google.colab Python module.\n",
              " */\n",
              "(function(scope) {\n",
              "function span(text, styleAttributes = {}) {\n",
              "  const element = document.createElement('span');\n",
              "  element.textContent = text;\n",
              "  for (const key of Object.keys(styleAttributes)) {\n",
              "    element.style[key] = styleAttributes[key];\n",
              "  }\n",
              "  return element;\n",
              "}\n",
              "\n",
              "// Max number of bytes which will be uploaded at a time.\n",
              "const MAX_PAYLOAD_SIZE = 100 * 1024;\n",
              "\n",
              "function _uploadFiles(inputId, outputId) {\n",
              "  const steps = uploadFilesStep(inputId, outputId);\n",
              "  const outputElement = document.getElementById(outputId);\n",
              "  // Cache steps on the outputElement to make it available for the next call\n",
              "  // to uploadFilesContinue from Python.\n",
              "  outputElement.steps = steps;\n",
              "\n",
              "  return _uploadFilesContinue(outputId);\n",
              "}\n",
              "\n",
              "// This is roughly an async generator (not supported in the browser yet),\n",
              "// where there are multiple asynchronous steps and the Python side is going\n",
              "// to poll for completion of each step.\n",
              "// This uses a Promise to block the python side on completion of each step,\n",
              "// then passes the result of the previous step as the input to the next step.\n",
              "function _uploadFilesContinue(outputId) {\n",
              "  const outputElement = document.getElementById(outputId);\n",
              "  const steps = outputElement.steps;\n",
              "\n",
              "  const next = steps.next(outputElement.lastPromiseValue);\n",
              "  return Promise.resolve(next.value.promise).then((value) => {\n",
              "    // Cache the last promise value to make it available to the next\n",
              "    // step of the generator.\n",
              "    outputElement.lastPromiseValue = value;\n",
              "    return next.value.response;\n",
              "  });\n",
              "}\n",
              "\n",
              "/**\n",
              " * Generator function which is called between each async step of the upload\n",
              " * process.\n",
              " * @param {string} inputId Element ID of the input file picker element.\n",
              " * @param {string} outputId Element ID of the output display.\n",
              " * @return {!Iterable<!Object>} Iterable of next steps.\n",
              " */\n",
              "function* uploadFilesStep(inputId, outputId) {\n",
              "  const inputElement = document.getElementById(inputId);\n",
              "  inputElement.disabled = false;\n",
              "\n",
              "  const outputElement = document.getElementById(outputId);\n",
              "  outputElement.innerHTML = '';\n",
              "\n",
              "  const pickedPromise = new Promise((resolve) => {\n",
              "    inputElement.addEventListener('change', (e) => {\n",
              "      resolve(e.target.files);\n",
              "    });\n",
              "  });\n",
              "\n",
              "  const cancel = document.createElement('button');\n",
              "  inputElement.parentElement.appendChild(cancel);\n",
              "  cancel.textContent = 'Cancel upload';\n",
              "  const cancelPromise = new Promise((resolve) => {\n",
              "    cancel.onclick = () => {\n",
              "      resolve(null);\n",
              "    };\n",
              "  });\n",
              "\n",
              "  // Wait for the user to pick the files.\n",
              "  const files = yield {\n",
              "    promise: Promise.race([pickedPromise, cancelPromise]),\n",
              "    response: {\n",
              "      action: 'starting',\n",
              "    }\n",
              "  };\n",
              "\n",
              "  cancel.remove();\n",
              "\n",
              "  // Disable the input element since further picks are not allowed.\n",
              "  inputElement.disabled = true;\n",
              "\n",
              "  if (!files) {\n",
              "    return {\n",
              "      response: {\n",
              "        action: 'complete',\n",
              "      }\n",
              "    };\n",
              "  }\n",
              "\n",
              "  for (const file of files) {\n",
              "    const li = document.createElement('li');\n",
              "    li.append(span(file.name, {fontWeight: 'bold'}));\n",
              "    li.append(span(\n",
              "        `(${file.type || 'n/a'}) - ${file.size} bytes, ` +\n",
              "        `last modified: ${\n",
              "            file.lastModifiedDate ? file.lastModifiedDate.toLocaleDateString() :\n",
              "                                    'n/a'} - `));\n",
              "    const percent = span('0% done');\n",
              "    li.appendChild(percent);\n",
              "\n",
              "    outputElement.appendChild(li);\n",
              "\n",
              "    const fileDataPromise = new Promise((resolve) => {\n",
              "      const reader = new FileReader();\n",
              "      reader.onload = (e) => {\n",
              "        resolve(e.target.result);\n",
              "      };\n",
              "      reader.readAsArrayBuffer(file);\n",
              "    });\n",
              "    // Wait for the data to be ready.\n",
              "    let fileData = yield {\n",
              "      promise: fileDataPromise,\n",
              "      response: {\n",
              "        action: 'continue',\n",
              "      }\n",
              "    };\n",
              "\n",
              "    // Use a chunked sending to avoid message size limits. See b/62115660.\n",
              "    let position = 0;\n",
              "    do {\n",
              "      const length = Math.min(fileData.byteLength - position, MAX_PAYLOAD_SIZE);\n",
              "      const chunk = new Uint8Array(fileData, position, length);\n",
              "      position += length;\n",
              "\n",
              "      const base64 = btoa(String.fromCharCode.apply(null, chunk));\n",
              "      yield {\n",
              "        response: {\n",
              "          action: 'append',\n",
              "          file: file.name,\n",
              "          data: base64,\n",
              "        },\n",
              "      };\n",
              "\n",
              "      let percentDone = fileData.byteLength === 0 ?\n",
              "          100 :\n",
              "          Math.round((position / fileData.byteLength) * 100);\n",
              "      percent.textContent = `${percentDone}% done`;\n",
              "\n",
              "    } while (position < fileData.byteLength);\n",
              "  }\n",
              "\n",
              "  // All done.\n",
              "  yield {\n",
              "    response: {\n",
              "      action: 'complete',\n",
              "    }\n",
              "  };\n",
              "}\n",
              "\n",
              "scope.google = scope.google || {};\n",
              "scope.google.colab = scope.google.colab || {};\n",
              "scope.google.colab._files = {\n",
              "  _uploadFiles,\n",
              "  _uploadFilesContinue,\n",
              "};\n",
              "})(self);\n",
              "</script> "
            ]
          },
          "metadata": {}
        }
      ]
    }
  ],
  "metadata": {
    "colab": {
      "provenance": []
    },
    "kernelspec": {
      "display_name": "Python 3",
      "name": "python3"
    },
    "language_info": {
      "codemirror_mode": {
        "name": "ipython",
        "version": 2
      },
      "file_extension": ".py",
      "mimetype": "text/x-python",
      "name": "python",
      "nbconvert_exporter": "python",
      "pygments_lexer": "ipython2",
      "version": "2.7.6"
    }
  },
  "nbformat": 4,
  "nbformat_minor": 5
}